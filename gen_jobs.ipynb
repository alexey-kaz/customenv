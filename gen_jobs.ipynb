{
 "cells": [
  {
   "cell_type": "code",
   "execution_count": 57,
   "outputs": [],
   "source": [
    "import numpy as np\n",
    "import pandas as pd"
   ],
   "metadata": {
    "collapsed": false,
    "pycharm": {
     "name": "#%%\n"
    }
   }
  },
  {
   "cell_type": "code",
   "execution_count": 58,
   "outputs": [],
   "source": [
    "n_ag = 5\n",
    "max_time_steps = 100\n",
    "max_run_time = 8"
   ],
   "metadata": {
    "collapsed": false,
    "pycharm": {
     "name": "#%%\n"
    }
   }
  },
  {
   "cell_type": "code",
   "execution_count": 59,
   "outputs": [
    {
     "data": {
      "text/plain": "     time  snd  rcv   sent  run_time  life_time   done\n414     0   -1    0  False         3         97  False\n21      0   -1    1  False         7         90  False\n150     0   -1    4  False         6         25  False\n217     1   -1    0  False         6         89  False\n20      1   -1    1  False         5         88  False\n..    ...  ...  ...    ...       ...        ...    ...\n71     98   -1    4  False         1         49  False\n22     99   -1    0  False         2         52  False\n7      99   -1    1  False         6         36  False\n311    99   -1    2  False         6         40  False\n127    99   -1    4  False         3         81  False\n\n[324 rows x 7 columns]",
      "text/html": "<div>\n<style scoped>\n    .dataframe tbody tr th:only-of-type {\n        vertical-align: middle;\n    }\n\n    .dataframe tbody tr th {\n        vertical-align: top;\n    }\n\n    .dataframe thead th {\n        text-align: right;\n    }\n</style>\n<table border=\"1\" class=\"dataframe\">\n  <thead>\n    <tr style=\"text-align: right;\">\n      <th></th>\n      <th>time</th>\n      <th>snd</th>\n      <th>rcv</th>\n      <th>sent</th>\n      <th>run_time</th>\n      <th>life_time</th>\n      <th>done</th>\n    </tr>\n  </thead>\n  <tbody>\n    <tr>\n      <th>414</th>\n      <td>0</td>\n      <td>-1</td>\n      <td>0</td>\n      <td>False</td>\n      <td>3</td>\n      <td>97</td>\n      <td>False</td>\n    </tr>\n    <tr>\n      <th>21</th>\n      <td>0</td>\n      <td>-1</td>\n      <td>1</td>\n      <td>False</td>\n      <td>7</td>\n      <td>90</td>\n      <td>False</td>\n    </tr>\n    <tr>\n      <th>150</th>\n      <td>0</td>\n      <td>-1</td>\n      <td>4</td>\n      <td>False</td>\n      <td>6</td>\n      <td>25</td>\n      <td>False</td>\n    </tr>\n    <tr>\n      <th>217</th>\n      <td>1</td>\n      <td>-1</td>\n      <td>0</td>\n      <td>False</td>\n      <td>6</td>\n      <td>89</td>\n      <td>False</td>\n    </tr>\n    <tr>\n      <th>20</th>\n      <td>1</td>\n      <td>-1</td>\n      <td>1</td>\n      <td>False</td>\n      <td>5</td>\n      <td>88</td>\n      <td>False</td>\n    </tr>\n    <tr>\n      <th>...</th>\n      <td>...</td>\n      <td>...</td>\n      <td>...</td>\n      <td>...</td>\n      <td>...</td>\n      <td>...</td>\n      <td>...</td>\n    </tr>\n    <tr>\n      <th>71</th>\n      <td>98</td>\n      <td>-1</td>\n      <td>4</td>\n      <td>False</td>\n      <td>1</td>\n      <td>49</td>\n      <td>False</td>\n    </tr>\n    <tr>\n      <th>22</th>\n      <td>99</td>\n      <td>-1</td>\n      <td>0</td>\n      <td>False</td>\n      <td>2</td>\n      <td>52</td>\n      <td>False</td>\n    </tr>\n    <tr>\n      <th>7</th>\n      <td>99</td>\n      <td>-1</td>\n      <td>1</td>\n      <td>False</td>\n      <td>6</td>\n      <td>36</td>\n      <td>False</td>\n    </tr>\n    <tr>\n      <th>311</th>\n      <td>99</td>\n      <td>-1</td>\n      <td>2</td>\n      <td>False</td>\n      <td>6</td>\n      <td>40</td>\n      <td>False</td>\n    </tr>\n    <tr>\n      <th>127</th>\n      <td>99</td>\n      <td>-1</td>\n      <td>4</td>\n      <td>False</td>\n      <td>3</td>\n      <td>81</td>\n      <td>False</td>\n    </tr>\n  </tbody>\n</table>\n<p>324 rows × 7 columns</p>\n</div>"
     },
     "execution_count": 59,
     "metadata": {},
     "output_type": "execute_result"
    }
   ],
   "source": [
    "c1 = np.random.randint(max_time_steps, size=max_time_steps*n_ag)\n",
    "c2 = np.full(max_time_steps*n_ag, -1)\n",
    "c3 = np.random.randint(n_ag, size=max_time_steps*n_ag)\n",
    "c4 = np.full(max_time_steps*n_ag, False)\n",
    "c5 = np.random.randint(1, max_run_time, size=max_time_steps*n_ag)\n",
    "c6 = np.random.randint(max_run_time*2, max_time_steps, size=max_time_steps*n_ag)\n",
    "c7 = [False] * max_time_steps * n_ag\n",
    "df = pd.DataFrame({'time': c1, 'snd': c2, 'rcv': c3, 'sent': c4, 'run_time': c5, 'life_time': c6, 'done': c7}).sort_values(by=['time', 'rcv'])\n",
    "# df = pd.DataFrame({'time': c1, 'snd': c2, 'rcv': c3, 'sent': c4, 'run_time': c5, 'life_time': c6}).sort_values(by=['time', 'rcv'])\n",
    "df = df.drop_duplicates(subset=['time', 'snd', 'rcv'])\n",
    "df"
   ],
   "metadata": {
    "collapsed": false,
    "pycharm": {
     "name": "#%%\n"
    }
   }
  },
  {
   "cell_type": "code",
   "execution_count": 60,
   "outputs": [
    {
     "name": "stdout",
     "output_type": "stream",
     "text": [
      "[[0 2 1 1 2]\n",
      " [2 0 1 2 2]\n",
      " [1 1 0 1 1]\n",
      " [1 2 1 0 2]\n",
      " [2 2 1 2 0]]\n"
     ]
    }
   ],
   "source": [
    "def gen_relations(n, min_route, max_route):\n",
    "    b = np.random.randint(min_route, max_route, size=(n, n))\n",
    "    res = (b + b.T) // 2\n",
    "    np.fill_diagonal(res, 0)\n",
    "    return res\n",
    "relations = gen_relations(5, 0, 4)\n",
    "print(relations)"
   ],
   "metadata": {
    "collapsed": false,
    "pycharm": {
     "name": "#%%\n"
    }
   }
  },
  {
   "cell_type": "code",
   "execution_count": 61,
   "outputs": [
    {
     "data": {
      "text/plain": "Empty DataFrame\nColumns: [time, snd, rcv, sent, run_time, life_time, done]\nIndex: []",
      "text/html": "<div>\n<style scoped>\n    .dataframe tbody tr th:only-of-type {\n        vertical-align: middle;\n    }\n\n    .dataframe tbody tr th {\n        vertical-align: top;\n    }\n\n    .dataframe thead th {\n        text-align: right;\n    }\n</style>\n<table border=\"1\" class=\"dataframe\">\n  <thead>\n    <tr style=\"text-align: right;\">\n      <th></th>\n      <th>time</th>\n      <th>snd</th>\n      <th>rcv</th>\n      <th>sent</th>\n      <th>run_time</th>\n      <th>life_time</th>\n      <th>done</th>\n    </tr>\n  </thead>\n  <tbody>\n  </tbody>\n</table>\n</div>"
     },
     "execution_count": 61,
     "metadata": {},
     "output_type": "execute_result"
    }
   ],
   "source": [
    "df[df['snd'] < -1]"
   ],
   "metadata": {
    "collapsed": false,
    "pycharm": {
     "name": "#%%\n"
    }
   }
  },
  {
   "cell_type": "code",
   "execution_count": 62,
   "outputs": [],
   "source": [
    "def send_task(job, rcv):\n",
    "    print(relations[rcv][job.rcv])\n",
    "    tmp = [job.time + relations[rcv][job.rcv], job.rcv, rcv, False, job.run_time, job.life_time, False]\n",
    "    print(job)\n",
    "    print(tmp)\n",
    "    df.loc[len(df)] = tmp\n",
    "    df.drop(df.index[(df.time == job.time) & (df.snd == job.snd) & (df.rcv == job.rcv)], inplace = True)"
   ],
   "metadata": {
    "collapsed": false,
    "pycharm": {
     "name": "#%%\n"
    }
   }
  },
  {
   "cell_type": "code",
   "execution_count": 62,
   "outputs": [],
   "source": [],
   "metadata": {
    "collapsed": false,
    "pycharm": {
     "name": "#%%\n"
    }
   }
  },
  {
   "cell_type": "code",
   "execution_count": 63,
   "outputs": [
    {
     "name": "stdout",
     "output_type": "stream",
     "text": [
      "2\n",
      "time             0\n",
      "snd             -1\n",
      "rcv              1\n",
      "sent         False\n",
      "run_time         7\n",
      "life_time       90\n",
      "done         False\n",
      "Name: 21, dtype: object\n",
      "[2, 1, 4, False, 7, 90, False]\n"
     ]
    }
   ],
   "source": [
    "send_task(df[(df.time == 0) & (df.snd == -1) & (df.rcv == 1)].squeeze(), 4)"
   ],
   "metadata": {
    "collapsed": false,
    "pycharm": {
     "name": "#%%\n"
    }
   }
  },
  {
   "cell_type": "code",
   "execution_count": 64,
   "outputs": [
    {
     "data": {
      "text/plain": "Empty DataFrame\nColumns: [time, snd, rcv, sent, run_time, life_time, done]\nIndex: []",
      "text/html": "<div>\n<style scoped>\n    .dataframe tbody tr th:only-of-type {\n        vertical-align: middle;\n    }\n\n    .dataframe tbody tr th {\n        vertical-align: top;\n    }\n\n    .dataframe thead th {\n        text-align: right;\n    }\n</style>\n<table border=\"1\" class=\"dataframe\">\n  <thead>\n    <tr style=\"text-align: right;\">\n      <th></th>\n      <th>time</th>\n      <th>snd</th>\n      <th>rcv</th>\n      <th>sent</th>\n      <th>run_time</th>\n      <th>life_time</th>\n      <th>done</th>\n    </tr>\n  </thead>\n  <tbody>\n  </tbody>\n</table>\n</div>"
     },
     "execution_count": 64,
     "metadata": {},
     "output_type": "execute_result"
    }
   ],
   "source": [
    "df[(df.time == 0) & (df.snd == -1) & (df.rcv == 1)]"
   ],
   "metadata": {
    "collapsed": false,
    "pycharm": {
     "name": "#%%\n"
    }
   }
  },
  {
   "cell_type": "code",
   "execution_count": 65,
   "outputs": [
    {
     "data": {
      "text/plain": "     time  snd  rcv   sent  run_time  life_time   done\n324     2    1    4  False         7         90  False",
      "text/html": "<div>\n<style scoped>\n    .dataframe tbody tr th:only-of-type {\n        vertical-align: middle;\n    }\n\n    .dataframe tbody tr th {\n        vertical-align: top;\n    }\n\n    .dataframe thead th {\n        text-align: right;\n    }\n</style>\n<table border=\"1\" class=\"dataframe\">\n  <thead>\n    <tr style=\"text-align: right;\">\n      <th></th>\n      <th>time</th>\n      <th>snd</th>\n      <th>rcv</th>\n      <th>sent</th>\n      <th>run_time</th>\n      <th>life_time</th>\n      <th>done</th>\n    </tr>\n  </thead>\n  <tbody>\n    <tr>\n      <th>324</th>\n      <td>2</td>\n      <td>1</td>\n      <td>4</td>\n      <td>False</td>\n      <td>7</td>\n      <td>90</td>\n      <td>False</td>\n    </tr>\n  </tbody>\n</table>\n</div>"
     },
     "execution_count": 65,
     "metadata": {},
     "output_type": "execute_result"
    }
   ],
   "source": [
    "df[df['snd'] != -1]"
   ],
   "metadata": {
    "collapsed": false,
    "pycharm": {
     "name": "#%%\n"
    }
   }
  },
  {
   "cell_type": "code",
   "execution_count": 66,
   "outputs": [
    {
     "data": {
      "text/plain": "{0: [-1, 0, 1], 1: [0, 1, 2], 2: [1, 2, 3], 3: [2, 3, 4], 4: [3, 4, 5]}"
     },
     "execution_count": 66,
     "metadata": {},
     "output_type": "execute_result"
    }
   ],
   "source": [
    "obs = {}\n",
    "for i in range(5):\n",
    "    obs[i]=[i-1,i,i+1]\n",
    "obs"
   ],
   "metadata": {
    "collapsed": false,
    "pycharm": {
     "name": "#%%\n"
    }
   }
  },
  {
   "cell_type": "code",
   "execution_count": 67,
   "outputs": [
    {
     "data": {
      "text/plain": "[[-1, 0, 1], [0, 1, 2], [1, 2, 3], [2, 3, 4], [3, 4, 5]]"
     },
     "execution_count": 67,
     "metadata": {},
     "output_type": "execute_result"
    }
   ],
   "source": [
    "[obs[x] for x in range(5) if relations[0][x] or x==0]"
   ],
   "metadata": {
    "collapsed": false,
    "pycharm": {
     "name": "#%%\n"
    }
   }
  },
  {
   "cell_type": "code",
   "execution_count": 68,
   "outputs": [],
   "source": [
    "df.loc[(df.time == 0) & (df.snd == 2) & (df.rcv == 4), 'done'] = True"
   ],
   "metadata": {
    "collapsed": false,
    "pycharm": {
     "name": "#%%\n"
    }
   }
  },
  {
   "cell_type": "code",
   "execution_count": 69,
   "outputs": [
    {
     "data": {
      "text/plain": "Empty DataFrame\nColumns: [time, snd, rcv, sent, run_time, life_time, done]\nIndex: []",
      "text/html": "<div>\n<style scoped>\n    .dataframe tbody tr th:only-of-type {\n        vertical-align: middle;\n    }\n\n    .dataframe tbody tr th {\n        vertical-align: top;\n    }\n\n    .dataframe thead th {\n        text-align: right;\n    }\n</style>\n<table border=\"1\" class=\"dataframe\">\n  <thead>\n    <tr style=\"text-align: right;\">\n      <th></th>\n      <th>time</th>\n      <th>snd</th>\n      <th>rcv</th>\n      <th>sent</th>\n      <th>run_time</th>\n      <th>life_time</th>\n      <th>done</th>\n    </tr>\n  </thead>\n  <tbody>\n  </tbody>\n</table>\n</div>"
     },
     "execution_count": 69,
     "metadata": {},
     "output_type": "execute_result"
    }
   ],
   "source": [
    "df[(df.time == 0) & (df.snd == 2) & (df.rcv == 4)]"
   ],
   "metadata": {
    "collapsed": false,
    "pycharm": {
     "name": "#%%\n"
    }
   }
  },
  {
   "cell_type": "code",
   "execution_count": 77,
   "outputs": [],
   "source": [
    "df.loc[(df.time == 2) & (df.snd == 1) & (df.rcv == 4), 'done'] = True"
   ],
   "metadata": {
    "collapsed": false,
    "pycharm": {
     "name": "#%%\n"
    }
   }
  },
  {
   "cell_type": "code",
   "execution_count": 78,
   "outputs": [
    {
     "data": {
      "text/plain": "     time  snd  rcv   sent  run_time  life_time  done\n324     2    1    4  False         7         90  True",
      "text/html": "<div>\n<style scoped>\n    .dataframe tbody tr th:only-of-type {\n        vertical-align: middle;\n    }\n\n    .dataframe tbody tr th {\n        vertical-align: top;\n    }\n\n    .dataframe thead th {\n        text-align: right;\n    }\n</style>\n<table border=\"1\" class=\"dataframe\">\n  <thead>\n    <tr style=\"text-align: right;\">\n      <th></th>\n      <th>time</th>\n      <th>snd</th>\n      <th>rcv</th>\n      <th>sent</th>\n      <th>run_time</th>\n      <th>life_time</th>\n      <th>done</th>\n    </tr>\n  </thead>\n  <tbody>\n    <tr>\n      <th>324</th>\n      <td>2</td>\n      <td>1</td>\n      <td>4</td>\n      <td>False</td>\n      <td>7</td>\n      <td>90</td>\n      <td>True</td>\n    </tr>\n  </tbody>\n</table>\n</div>"
     },
     "execution_count": 78,
     "metadata": {},
     "output_type": "execute_result"
    }
   ],
   "source": [
    "df[(df.time == 2) & (df.snd == 1) & (df.rcv == 4)]"
   ],
   "metadata": {
    "collapsed": false,
    "pycharm": {
     "name": "#%%\n"
    }
   }
  },
  {
   "cell_type": "code",
   "execution_count": 83,
   "outputs": [
    {
     "data": {
      "text/plain": "1"
     },
     "execution_count": 83,
     "metadata": {},
     "output_type": "execute_result"
    }
   ],
   "source": [
    "df[df['done'] == True].shape[0]"
   ],
   "metadata": {
    "collapsed": false,
    "pycharm": {
     "name": "#%%\n"
    }
   }
  },
  {
   "cell_type": "code",
   "execution_count": 134,
   "outputs": [
    {
     "name": "stdout",
     "output_type": "stream",
     "text": [
      "[nan nan nan nan nan]\n",
      "[0.61538462 1.         0.84615385 0.07692308 0.        ]\n"
     ]
    },
    {
     "name": "stderr",
     "output_type": "stream",
     "text": [
      "/var/folders/44/mb7l70216dl9vdpx1xfpzxp40000gn/T/ipykernel_57240/1459433522.py:3: RuntimeWarning: invalid value encountered in true_divide\n",
      "  result_num_jobs = (num_jobs-np.min(num_jobs))/np.ptp(num_jobs)\n"
     ]
    }
   ],
   "source": [
    "num_jobs = [0]*5\n",
    "total_run_time = [10,15,13,3,2]\n",
    "result_num_jobs = (num_jobs-np.min(num_jobs))/np.ptp(num_jobs)\n",
    "result_total_run_time = (total_run_time-np.min(total_run_time))/np.ptp(total_run_time)\n",
    "print(result_num_jobs)\n",
    "print(result_total_run_time)"
   ],
   "metadata": {
    "collapsed": false,
    "pycharm": {
     "name": "#%%\n"
    }
   }
  },
  {
   "cell_type": "code",
   "execution_count": 92,
   "outputs": [
    {
     "data": {
      "text/plain": "[(0.0, 0.6153846153846154),\n (0.16666666666666666, 1.0),\n (0.5, 0.8461538461538461),\n (0.6666666666666666, 0.07692307692307693),\n (1.0, 0.0)]"
     },
     "execution_count": 92,
     "metadata": {},
     "output_type": "execute_result"
    }
   ],
   "source": [
    "out = [i for i in zip(result_num_jobs, result_total_run_time)]\n",
    "out"
   ],
   "metadata": {
    "collapsed": false,
    "pycharm": {
     "name": "#%%\n"
    }
   }
  },
  {
   "cell_type": "code",
   "execution_count": 126,
   "outputs": [
    {
     "data": {
      "text/plain": "276"
     },
     "execution_count": 126,
     "metadata": {},
     "output_type": "execute_result"
    }
   ],
   "source": [
    "np.sum([j for j in df[df.rcv == 2].run_time])"
   ],
   "metadata": {
    "collapsed": false,
    "pycharm": {
     "name": "#%%\n"
    }
   }
  },
  {
   "cell_type": "code",
   "execution_count": 127,
   "outputs": [
    {
     "data": {
      "text/plain": "     time  snd  rcv   sent  run_time  life_time   done\n414     0   -1    0  False         3         97  False\n150     0   -1    4  False         6         25  False\n217     1   -1    0  False         6         89  False\n20      1   -1    1  False         5         88  False\n257     1   -1    2  False         6         73  False\n54      1   -1    3  False         4         43  False\n470     1   -1    4  False         6         36  False\n472     2   -1    0  False         7         19  False\n227     2   -1    1  False         2         74  False\n128     2   -1    4  False         7         88  False\n486     3   -1    0  False         1         22  False\n106     3   -1    1  False         2         66  False\n134     3   -1    2  False         2         48  False\n475     3   -1    3  False         1         58  False\n183     4   -1    0  False         3         81  False\n493     5   -1    1  False         3         51  False\n324     2    1    4  False         7         90   True",
      "text/html": "<div>\n<style scoped>\n    .dataframe tbody tr th:only-of-type {\n        vertical-align: middle;\n    }\n\n    .dataframe tbody tr th {\n        vertical-align: top;\n    }\n\n    .dataframe thead th {\n        text-align: right;\n    }\n</style>\n<table border=\"1\" class=\"dataframe\">\n  <thead>\n    <tr style=\"text-align: right;\">\n      <th></th>\n      <th>time</th>\n      <th>snd</th>\n      <th>rcv</th>\n      <th>sent</th>\n      <th>run_time</th>\n      <th>life_time</th>\n      <th>done</th>\n    </tr>\n  </thead>\n  <tbody>\n    <tr>\n      <th>414</th>\n      <td>0</td>\n      <td>-1</td>\n      <td>0</td>\n      <td>False</td>\n      <td>3</td>\n      <td>97</td>\n      <td>False</td>\n    </tr>\n    <tr>\n      <th>150</th>\n      <td>0</td>\n      <td>-1</td>\n      <td>4</td>\n      <td>False</td>\n      <td>6</td>\n      <td>25</td>\n      <td>False</td>\n    </tr>\n    <tr>\n      <th>217</th>\n      <td>1</td>\n      <td>-1</td>\n      <td>0</td>\n      <td>False</td>\n      <td>6</td>\n      <td>89</td>\n      <td>False</td>\n    </tr>\n    <tr>\n      <th>20</th>\n      <td>1</td>\n      <td>-1</td>\n      <td>1</td>\n      <td>False</td>\n      <td>5</td>\n      <td>88</td>\n      <td>False</td>\n    </tr>\n    <tr>\n      <th>257</th>\n      <td>1</td>\n      <td>-1</td>\n      <td>2</td>\n      <td>False</td>\n      <td>6</td>\n      <td>73</td>\n      <td>False</td>\n    </tr>\n    <tr>\n      <th>54</th>\n      <td>1</td>\n      <td>-1</td>\n      <td>3</td>\n      <td>False</td>\n      <td>4</td>\n      <td>43</td>\n      <td>False</td>\n    </tr>\n    <tr>\n      <th>470</th>\n      <td>1</td>\n      <td>-1</td>\n      <td>4</td>\n      <td>False</td>\n      <td>6</td>\n      <td>36</td>\n      <td>False</td>\n    </tr>\n    <tr>\n      <th>472</th>\n      <td>2</td>\n      <td>-1</td>\n      <td>0</td>\n      <td>False</td>\n      <td>7</td>\n      <td>19</td>\n      <td>False</td>\n    </tr>\n    <tr>\n      <th>227</th>\n      <td>2</td>\n      <td>-1</td>\n      <td>1</td>\n      <td>False</td>\n      <td>2</td>\n      <td>74</td>\n      <td>False</td>\n    </tr>\n    <tr>\n      <th>128</th>\n      <td>2</td>\n      <td>-1</td>\n      <td>4</td>\n      <td>False</td>\n      <td>7</td>\n      <td>88</td>\n      <td>False</td>\n    </tr>\n    <tr>\n      <th>486</th>\n      <td>3</td>\n      <td>-1</td>\n      <td>0</td>\n      <td>False</td>\n      <td>1</td>\n      <td>22</td>\n      <td>False</td>\n    </tr>\n    <tr>\n      <th>106</th>\n      <td>3</td>\n      <td>-1</td>\n      <td>1</td>\n      <td>False</td>\n      <td>2</td>\n      <td>66</td>\n      <td>False</td>\n    </tr>\n    <tr>\n      <th>134</th>\n      <td>3</td>\n      <td>-1</td>\n      <td>2</td>\n      <td>False</td>\n      <td>2</td>\n      <td>48</td>\n      <td>False</td>\n    </tr>\n    <tr>\n      <th>475</th>\n      <td>3</td>\n      <td>-1</td>\n      <td>3</td>\n      <td>False</td>\n      <td>1</td>\n      <td>58</td>\n      <td>False</td>\n    </tr>\n    <tr>\n      <th>183</th>\n      <td>4</td>\n      <td>-1</td>\n      <td>0</td>\n      <td>False</td>\n      <td>3</td>\n      <td>81</td>\n      <td>False</td>\n    </tr>\n    <tr>\n      <th>493</th>\n      <td>5</td>\n      <td>-1</td>\n      <td>1</td>\n      <td>False</td>\n      <td>3</td>\n      <td>51</td>\n      <td>False</td>\n    </tr>\n    <tr>\n      <th>324</th>\n      <td>2</td>\n      <td>1</td>\n      <td>4</td>\n      <td>False</td>\n      <td>7</td>\n      <td>90</td>\n      <td>True</td>\n    </tr>\n  </tbody>\n</table>\n</div>"
     },
     "execution_count": 127,
     "metadata": {},
     "output_type": "execute_result"
    }
   ],
   "source": [
    "loc_obs = df[df.time <= 5]\n",
    "loc_obs"
   ],
   "metadata": {
    "collapsed": false,
    "pycharm": {
     "name": "#%%\n"
    }
   }
  },
  {
   "cell_type": "code",
   "execution_count": 129,
   "outputs": [
    {
     "data": {
      "text/plain": "8"
     },
     "execution_count": 129,
     "metadata": {},
     "output_type": "execute_result"
    }
   ],
   "source": [
    "np.sum(loc_obs[loc_obs.rcv == 2].run_time)"
   ],
   "metadata": {
    "collapsed": false,
    "pycharm": {
     "name": "#%%\n"
    }
   }
  },
  {
   "cell_type": "code",
   "execution_count": 125,
   "outputs": [
    {
     "data": {
      "text/plain": "2"
     },
     "execution_count": 125,
     "metadata": {},
     "output_type": "execute_result"
    }
   ],
   "source": [
    "loc_obs[loc_obs.rcv == 1].run_time.values[-1]"
   ],
   "metadata": {
    "collapsed": false,
    "pycharm": {
     "name": "#%%\n"
    }
   }
  },
  {
   "cell_type": "code",
   "execution_count": 130,
   "outputs": [],
   "source": [
    "tmp = pd.Series({'time': 1,\n",
    "                 'snd': 4,\n",
    "                 'rcv': 2,\n",
    "                 'sent': False,\n",
    "                 'run_time': 3,\n",
    "                 'life_time': 1,\n",
    "                 'done': False})\n",
    "df = pd.concat([df, tmp], ignore_index=True)\n",
    "# self.jobs_df.loc[len(self.jobs_df)] = tmp\n",
    "# print(job.time)\n",
    "df.drop(df.index[(df.time == 2)\n",
    "                 & (df.snd == 1)\n",
    "                 & (df.rcv == 4)], inplace=True)"
   ],
   "metadata": {
    "collapsed": false,
    "pycharm": {
     "name": "#%%\n"
    }
   }
  },
  {
   "cell_type": "code",
   "execution_count": 131,
   "outputs": [
    {
     "data": {
      "text/plain": "48"
     },
     "execution_count": 131,
     "metadata": {},
     "output_type": "execute_result"
    }
   ],
   "source": [
    "loc_obs[loc_obs.rcv == 2].life_time.values[-1]"
   ],
   "metadata": {
    "collapsed": false,
    "pycharm": {
     "name": "#%%\n"
    }
   }
  },
  {
   "cell_type": "code",
   "execution_count": 133,
   "outputs": [
    {
     "data": {
      "text/plain": "0.0"
     },
     "execution_count": 133,
     "metadata": {},
     "output_type": "execute_result"
    }
   ],
   "source": [
    "np.sum([])"
   ],
   "metadata": {
    "collapsed": false,
    "pycharm": {
     "name": "#%%\n"
    }
   }
  },
  {
   "cell_type": "code",
   "execution_count": 137,
   "outputs": [
    {
     "data": {
      "text/plain": "Index(['time', 'snd', 'rcv', 'sent', 'run_time', 'life_time', 'done', 0], dtype='object')"
     },
     "execution_count": 137,
     "metadata": {},
     "output_type": "execute_result"
    }
   ],
   "source": [
    "active_jobs_df = pd.DataFrame(columns=df.columns)\n",
    "active_jobs_df"
   ],
   "metadata": {
    "collapsed": false,
    "pycharm": {
     "name": "#%%\n"
    }
   }
  },
  {
   "cell_type": "code",
   "execution_count": 144,
   "outputs": [
    {
     "data": {
      "text/plain": "     time  snd  rcv   sent  run_time  life_time   done    0\n0     0.0 -1.0  0.0  False       3.0       97.0  False  NaN\n1     0.0 -1.0  4.0  False       6.0       25.0  False  NaN\n2     1.0 -1.0  0.0  False       6.0       89.0  False  NaN\n3     1.0 -1.0  1.0  False       5.0       88.0  False  NaN\n4     1.0 -1.0  2.0  False       6.0       73.0  False  NaN\n..    ...  ...  ...    ...       ...        ...    ...  ...\n318  98.0 -1.0  4.0  False       1.0       49.0  False  NaN\n319  99.0 -1.0  0.0  False       2.0       52.0  False  NaN\n320  99.0 -1.0  1.0  False       6.0       36.0  False  NaN\n321  99.0 -1.0  2.0  False       6.0       40.0  False  NaN\n322  99.0 -1.0  4.0  False       3.0       81.0  False  NaN\n\n[322 rows x 8 columns]",
      "text/html": "<div>\n<style scoped>\n    .dataframe tbody tr th:only-of-type {\n        vertical-align: middle;\n    }\n\n    .dataframe tbody tr th {\n        vertical-align: top;\n    }\n\n    .dataframe thead th {\n        text-align: right;\n    }\n</style>\n<table border=\"1\" class=\"dataframe\">\n  <thead>\n    <tr style=\"text-align: right;\">\n      <th></th>\n      <th>time</th>\n      <th>snd</th>\n      <th>rcv</th>\n      <th>sent</th>\n      <th>run_time</th>\n      <th>life_time</th>\n      <th>done</th>\n      <th>0</th>\n    </tr>\n  </thead>\n  <tbody>\n    <tr>\n      <th>0</th>\n      <td>0.0</td>\n      <td>-1.0</td>\n      <td>0.0</td>\n      <td>False</td>\n      <td>3.0</td>\n      <td>97.0</td>\n      <td>False</td>\n      <td>NaN</td>\n    </tr>\n    <tr>\n      <th>1</th>\n      <td>0.0</td>\n      <td>-1.0</td>\n      <td>4.0</td>\n      <td>False</td>\n      <td>6.0</td>\n      <td>25.0</td>\n      <td>False</td>\n      <td>NaN</td>\n    </tr>\n    <tr>\n      <th>2</th>\n      <td>1.0</td>\n      <td>-1.0</td>\n      <td>0.0</td>\n      <td>False</td>\n      <td>6.0</td>\n      <td>89.0</td>\n      <td>False</td>\n      <td>NaN</td>\n    </tr>\n    <tr>\n      <th>3</th>\n      <td>1.0</td>\n      <td>-1.0</td>\n      <td>1.0</td>\n      <td>False</td>\n      <td>5.0</td>\n      <td>88.0</td>\n      <td>False</td>\n      <td>NaN</td>\n    </tr>\n    <tr>\n      <th>4</th>\n      <td>1.0</td>\n      <td>-1.0</td>\n      <td>2.0</td>\n      <td>False</td>\n      <td>6.0</td>\n      <td>73.0</td>\n      <td>False</td>\n      <td>NaN</td>\n    </tr>\n    <tr>\n      <th>...</th>\n      <td>...</td>\n      <td>...</td>\n      <td>...</td>\n      <td>...</td>\n      <td>...</td>\n      <td>...</td>\n      <td>...</td>\n      <td>...</td>\n    </tr>\n    <tr>\n      <th>318</th>\n      <td>98.0</td>\n      <td>-1.0</td>\n      <td>4.0</td>\n      <td>False</td>\n      <td>1.0</td>\n      <td>49.0</td>\n      <td>False</td>\n      <td>NaN</td>\n    </tr>\n    <tr>\n      <th>319</th>\n      <td>99.0</td>\n      <td>-1.0</td>\n      <td>0.0</td>\n      <td>False</td>\n      <td>2.0</td>\n      <td>52.0</td>\n      <td>False</td>\n      <td>NaN</td>\n    </tr>\n    <tr>\n      <th>320</th>\n      <td>99.0</td>\n      <td>-1.0</td>\n      <td>1.0</td>\n      <td>False</td>\n      <td>6.0</td>\n      <td>36.0</td>\n      <td>False</td>\n      <td>NaN</td>\n    </tr>\n    <tr>\n      <th>321</th>\n      <td>99.0</td>\n      <td>-1.0</td>\n      <td>2.0</td>\n      <td>False</td>\n      <td>6.0</td>\n      <td>40.0</td>\n      <td>False</td>\n      <td>NaN</td>\n    </tr>\n    <tr>\n      <th>322</th>\n      <td>99.0</td>\n      <td>-1.0</td>\n      <td>4.0</td>\n      <td>False</td>\n      <td>3.0</td>\n      <td>81.0</td>\n      <td>False</td>\n      <td>NaN</td>\n    </tr>\n  </tbody>\n</table>\n<p>322 rows × 8 columns</p>\n</div>"
     },
     "execution_count": 144,
     "metadata": {},
     "output_type": "execute_result"
    }
   ],
   "source": [
    "df[df.done == False]"
   ],
   "metadata": {
    "collapsed": false,
    "pycharm": {
     "name": "#%%\n"
    }
   }
  },
  {
   "cell_type": "code",
   "execution_count": 154,
   "outputs": [
    {
     "data": {
      "text/plain": "97.0"
     },
     "execution_count": 154,
     "metadata": {},
     "output_type": "execute_result"
    }
   ],
   "source": [
    "df[df.rcv == 0].life_time.at[0]"
   ],
   "metadata": {
    "collapsed": false,
    "pycharm": {
     "name": "#%%\n"
    }
   }
  },
  {
   "cell_type": "code",
   "execution_count": 293,
   "outputs": [
    {
     "name": "stdout",
     "output_type": "stream",
     "text": [
      "   time  snd  rcv   sent  run_time  life_time   done    0\n",
      "0   0.0 -1.0  0.0  False       3.0       78.0  False  NaN\n",
      "1   0.0 -1.0  4.0  False       6.0       77.0  False  NaN\n",
      "2   1.0 -1.0  0.0  False       6.0       90.0  False  NaN\n",
      "3   1.0 -1.0  1.0  False       5.0       78.0  False  NaN\n",
      "4   1.0 -1.0  2.0  False       6.0       77.0  False  NaN\n",
      "5   1.0 -1.0  3.0  False       4.0       77.0  False  NaN\n",
      "6   1.0 -1.0  4.0  False       6.0       30.0  False  NaN\n",
      "7   2.0 -1.0  0.0  False       7.0       90.0  False  NaN\n",
      "8   2.0 -1.0  1.0  False       2.0       68.0  False  NaN\n",
      "9   2.0 -1.0  4.0  False       7.0       82.0  False  NaN\n",
      "   time  snd  rcv   sent  run_time  life_time   done    0\n",
      "0   0.0 -1.0  0.0  False       3.0       77.0  False  NaN\n",
      "1   0.0 -1.0  4.0  False       6.0       76.0  False  NaN\n",
      "2   1.0 -1.0  0.0  False       6.0       90.0  False  NaN\n",
      "3   1.0 -1.0  1.0  False       5.0       77.0  False  NaN\n",
      "4   1.0 -1.0  2.0  False       6.0       76.0  False  NaN\n",
      "5   1.0 -1.0  3.0  False       4.0       76.0  False  NaN\n",
      "6   1.0 -1.0  4.0  False       6.0       30.0  False  NaN\n",
      "7   2.0 -1.0  0.0  False       7.0       90.0  False  NaN\n",
      "8   2.0 -1.0  1.0  False       2.0       68.0  False  NaN\n",
      "9   2.0 -1.0  4.0  False       7.0       82.0  False  NaN\n"
     ]
    }
   ],
   "source": [
    "print(df.head(10))\n",
    "for i in range(5):\n",
    "    col_index = df.columns.get_loc('life_time')\n",
    "    # print(df.loc[df.rcv == i, 'life_time'].index[0], col_index)\n",
    "    df.iloc[df.loc[df.rcv == i, 'life_time'].index[0], col_index] = df.loc[df.rcv == i, 'life_time'].values[0] - 1\n",
    "print(df.head(10))"
   ],
   "metadata": {
    "collapsed": false,
    "pycharm": {
     "name": "#%%\n"
    }
   }
  },
  {
   "cell_type": "code",
   "execution_count": 291,
   "outputs": [
    {
     "data": {
      "text/plain": "79.0"
     },
     "execution_count": 291,
     "metadata": {},
     "output_type": "execute_result"
    }
   ],
   "source": [
    "df.loc[df.rcv == 1, 'life_time'].values[0]"
   ],
   "metadata": {
    "collapsed": false,
    "pycharm": {
     "name": "#%%\n"
    }
   }
  },
  {
   "cell_type": "code",
   "execution_count": 287,
   "outputs": [
    {
     "ename": "IndexError",
     "evalue": "only integers, slices (`:`), ellipsis (`...`), numpy.newaxis (`None`) and integer or boolean arrays are valid indices",
     "output_type": "error",
     "traceback": [
      "\u001B[0;31m---------------------------------------------------------------------------\u001B[0m",
      "\u001B[0;31mIndexError\u001B[0m                                Traceback (most recent call last)",
      "Input \u001B[0;32mIn [287]\u001B[0m, in \u001B[0;36m<module>\u001B[0;34m\u001B[0m\n\u001B[0;32m----> 1\u001B[0m \u001B[43mdf\u001B[49m\u001B[38;5;241;43m.\u001B[39;49m\u001B[43mindex\u001B[49m\u001B[43m[\u001B[49m\u001B[38;5;241;43m0\u001B[39;49m\u001B[43m,\u001B[49m\u001B[43m \u001B[49m\u001B[38;5;124;43m'\u001B[39;49m\u001B[38;5;124;43mlife_time\u001B[39;49m\u001B[38;5;124;43m'\u001B[39;49m\u001B[43m]\u001B[49m\n",
      "File \u001B[0;32m~/PycharmProjects/customenvjssp/venv/lib/python3.8/site-packages/pandas/core/indexes/base.py:5055\u001B[0m, in \u001B[0;36mIndex.__getitem__\u001B[0;34m(self, key)\u001B[0m\n\u001B[1;32m   5048\u001B[0m \u001B[38;5;28;01mif\u001B[39;00m com\u001B[38;5;241m.\u001B[39mis_bool_indexer(key):\n\u001B[1;32m   5049\u001B[0m     \u001B[38;5;66;03m# if we have list[bools, length=1e5] then doing this check+convert\u001B[39;00m\n\u001B[1;32m   5050\u001B[0m     \u001B[38;5;66;03m#  takes 166 µs + 2.1 ms and cuts the ndarray.__getitem__\u001B[39;00m\n\u001B[1;32m   5051\u001B[0m     \u001B[38;5;66;03m#  time below from 3.8 ms to 496 µs\u001B[39;00m\n\u001B[1;32m   5052\u001B[0m     \u001B[38;5;66;03m# if we already have ndarray[bool], the overhead is 1.4 µs or .25%\u001B[39;00m\n\u001B[1;32m   5053\u001B[0m     key \u001B[38;5;241m=\u001B[39m np\u001B[38;5;241m.\u001B[39masarray(key, dtype\u001B[38;5;241m=\u001B[39m\u001B[38;5;28mbool\u001B[39m)\n\u001B[0;32m-> 5055\u001B[0m result \u001B[38;5;241m=\u001B[39m \u001B[43mgetitem\u001B[49m\u001B[43m(\u001B[49m\u001B[43mkey\u001B[49m\u001B[43m)\u001B[49m\n\u001B[1;32m   5056\u001B[0m \u001B[38;5;66;03m# Because we ruled out integer above, we always get an arraylike here\u001B[39;00m\n\u001B[1;32m   5057\u001B[0m \u001B[38;5;28;01mif\u001B[39;00m result\u001B[38;5;241m.\u001B[39mndim \u001B[38;5;241m>\u001B[39m \u001B[38;5;241m1\u001B[39m:\n",
      "\u001B[0;31mIndexError\u001B[0m: only integers, slices (`:`), ellipsis (`...`), numpy.newaxis (`None`) and integer or boolean arrays are valid indices"
     ]
    }
   ],
   "source": [
    "df.index[0, 'life_time']"
   ],
   "metadata": {
    "collapsed": false,
    "pycharm": {
     "name": "#%%\n"
    }
   }
  },
  {
   "cell_type": "code",
   "execution_count": 251,
   "outputs": [
    {
     "data": {
      "text/plain": "(0, 5)"
     },
     "execution_count": 251,
     "metadata": {},
     "output_type": "execute_result"
    }
   ],
   "source": [
    "df.loc[df.rcv == 0, 'life_time'].index[0], df.columns.get_loc('life_time')"
   ],
   "metadata": {
    "collapsed": false,
    "pycharm": {
     "name": "#%%\n"
    }
   }
  },
  {
   "cell_type": "code",
   "execution_count": 294,
   "outputs": [
    {
     "data": {
      "text/plain": "time           1.0\nsnd           -1.0\nrcv            1.0\nsent         False\nrun_time       5.0\nlife_time     77.0\ndone         False\n0              NaN\nName: 3, dtype: object"
     },
     "execution_count": 294,
     "metadata": {},
     "output_type": "execute_result"
    }
   ],
   "source": [
    "df.iloc[df.loc[df.rcv == 1, 'run_time'].index[0]]"
   ],
   "metadata": {
    "collapsed": false,
    "pycharm": {
     "name": "#%%\n"
    }
   }
  },
  {
   "cell_type": "code",
   "execution_count": 296,
   "outputs": [
    {
     "data": {
      "text/plain": "4"
     },
     "execution_count": 296,
     "metadata": {},
     "output_type": "execute_result"
    }
   ],
   "source": [
    "df.loc[df.rcv == 2, 'run_time'].index[0]"
   ],
   "metadata": {
    "collapsed": false,
    "pycharm": {
     "name": "#%%\n"
    }
   }
  },
  {
   "cell_type": "code",
   "execution_count": 302,
   "outputs": [
    {
     "data": {
      "text/plain": "Int64Index([  2,   7,  10,  14,  19,  23,  27,  29,  32,  37,  41,  48,  57,\n             59,  63,  69,  77,  82,  86,  90,  93, 100, 110, 117, 120, 123,\n            128, 133, 136, 139, 146, 149, 161, 165, 167, 173, 179, 185, 187,\n            193, 197, 202, 212, 216, 220, 226, 231, 236, 240, 244, 246, 250,\n            255, 260, 264, 270, 278, 284, 287, 295, 297, 304, 308, 312, 319],\n           dtype='int64')"
     },
     "execution_count": 302,
     "metadata": {},
     "output_type": "execute_result"
    }
   ],
   "source": [
    "df.loc[df.rcv == 0, 'life_time'].index[1:]"
   ],
   "metadata": {
    "collapsed": false,
    "pycharm": {
     "name": "#%%\n"
    }
   }
  },
  {
   "cell_type": "code",
   "execution_count": 304,
   "outputs": [
    {
     "data": {
      "text/plain": "0"
     },
     "execution_count": 304,
     "metadata": {},
     "output_type": "execute_result"
    }
   ],
   "source": [
    "time_col_index = df.columns.get_loc('time')\n",
    "time_col_index"
   ],
   "metadata": {
    "collapsed": false,
    "pycharm": {
     "name": "#%%\n"
    }
   }
  },
  {
   "cell_type": "code",
   "execution_count": 310,
   "outputs": [
    {
     "name": "stdout",
     "output_type": "stream",
     "text": [
      "   time  snd  rcv   sent  run_time  life_time   done    0\n",
      "0   0.0 -1.0  0.0  False       3.0       77.0  False  NaN\n",
      "1   0.0 -1.0  4.0  False       6.0       76.0  False  NaN\n",
      "2   4.0 -1.0  0.0  False       6.0       90.0  False  NaN\n",
      "3   1.0 -1.0  1.0  False       5.0       77.0  False  NaN\n",
      "4   1.0 -1.0  2.0  False       6.0       76.0  False  NaN\n",
      "5   1.0 -1.0  3.0  False       4.0       76.0  False  NaN\n",
      "6   1.0 -1.0  4.0  False       6.0       30.0  False  NaN\n",
      "7   5.0 -1.0  0.0  False       7.0       90.0  False  NaN\n",
      "8   2.0 -1.0  1.0  False       2.0       68.0  False  NaN\n",
      "9   2.0 -1.0  4.0  False       7.0       82.0  False  NaN\n",
      "   time  snd  rcv   sent  run_time  life_time   done    0\n",
      "0   0.0 -1.0  0.0  False       3.0       77.0  False  NaN\n",
      "1   0.0 -1.0  4.0  False       6.0       76.0  False  NaN\n",
      "2   5.0 -1.0  0.0  False       6.0       90.0  False  NaN\n",
      "3   1.0 -1.0  1.0  False       5.0       77.0  False  NaN\n",
      "4   1.0 -1.0  2.0  False       6.0       76.0  False  NaN\n",
      "5   1.0 -1.0  3.0  False       4.0       76.0  False  NaN\n",
      "6   1.0 -1.0  4.0  False       6.0       30.0  False  NaN\n",
      "7   6.0 -1.0  0.0  False       7.0       90.0  False  NaN\n",
      "8   2.0 -1.0  1.0  False       2.0       68.0  False  NaN\n",
      "9   2.0 -1.0  4.0  False       7.0       82.0  False  NaN\n"
     ]
    }
   ],
   "source": [
    "print(df.head(10))\n",
    "df.iloc[df.loc[df.rcv == 0, 'time'].index[1:], time_col_index] = \\\n",
    "    df.iloc[df.loc[df.rcv == 0, 'time'].index[1:], time_col_index] + 1\n",
    "print(df.head(10))"
   ],
   "metadata": {
    "collapsed": false,
    "pycharm": {
     "name": "#%%\n"
    }
   }
  },
  {
   "cell_type": "code",
   "execution_count": null,
   "outputs": [],
   "source": [],
   "metadata": {
    "collapsed": false,
    "pycharm": {
     "name": "#%%\n"
    }
   }
  }
 ],
 "metadata": {
  "kernelspec": {
   "display_name": "Python 3",
   "language": "python",
   "name": "python3"
  },
  "language_info": {
   "codemirror_mode": {
    "name": "ipython",
    "version": 2
   },
   "file_extension": ".py",
   "mimetype": "text/x-python",
   "name": "python",
   "nbconvert_exporter": "python",
   "pygments_lexer": "ipython2",
   "version": "2.7.6"
  }
 },
 "nbformat": 4,
 "nbformat_minor": 0
}